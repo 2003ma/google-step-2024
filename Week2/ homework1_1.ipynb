{
 "cells": [
  {
   "cell_type": "code",
   "execution_count": 9,
   "metadata": {},
   "outputs": [],
   "source": [
    "import random, sys, time"
   ]
  },
  {
   "cell_type": "code",
   "execution_count": 10,
   "metadata": {},
   "outputs": [],
   "source": [
    "def calculate_hash(key):\n",
    "    assert type(key) == str\n",
    "    # Note: This is not a good hash function. Do you see why?\n",
    "    hash = 0\n",
    "    for i in key:\n",
    "        hash += ord(i)\n",
    "    return hash\n"
   ]
  },
  {
   "cell_type": "code",
   "execution_count": 11,
   "metadata": {},
   "outputs": [],
   "source": [
    "# An item object that represents one key - value pair in the hash table.\n",
    "class Item:\n",
    "    # |key|: The key of the item. The key must be a string.\n",
    "    # |value|: The value of the item.\n",
    "    # |next|: The next item in the linked list. If this is the last item in the\n",
    "    #         linked list, |next| is None.\n",
    "    def __init__(self, key, value, next):\n",
    "        assert type(key) == str\n",
    "        self.key = key\n",
    "        self.value = value\n",
    "        self.next = next"
   ]
  },
  {
   "cell_type": "code",
   "execution_count": 294,
   "metadata": {},
   "outputs": [],
   "source": [
    "# The main data structure of the hash table that stores key - value pairs.\n",
    "# The key must be a string. The value can be any type.\n",
    "#\n",
    "# |self.bucket_size|: The bucket size.\n",
    "# |self.buckets|: An array of the buckets. self.buckets[hash % self.bucket_size]\n",
    "#                 stores a linked list of items whose hash value is |hash|.\n",
    "# |self.item_count|: The total number of items in the hash table.\n",
    "class HashTable:\n",
    "\n",
    "    # Initialize the hash table.\n",
    "    def __init__(self):\n",
    "        # Set the initial bucket size to 97. A prime number is chosen to reduce\n",
    "        # hash conflicts.\n",
    "        self.bucket_size = 97\n",
    "        self.buckets = [None] * self.bucket_size\n",
    "        self.item_count = 0\n",
    "\n",
    "    # Put an item to the hash table. If the key already exists, the\n",
    "    # corresponding value is updated to a new value.\n",
    "    #\n",
    "    # |key|: The key of the item.\n",
    "    # |value|: The value of the item.\n",
    "    # Return value: True if a new item is added. False if the key already exists\n",
    "    #               and the value is updated.\n",
    "    def put(self, key, value):\n",
    "        assert type(key) == str\n",
    "        self.check_size()  # Note: Don't remove this code.\n",
    "        bucket_index = calculate_hash(key) % self.bucket_size\n",
    "        item = self.buckets[bucket_index]\n",
    "        while item:\n",
    "            if item.key == key:\n",
    "                item.value = value\n",
    "                return False\n",
    "            item = item.next\n",
    "        new_item = Item(key, value, self.buckets[bucket_index])\n",
    "        self.buckets[bucket_index] = new_item\n",
    "        self.item_count += 1\n",
    "        return True\n",
    "\n",
    "    # Get an item from the hash table.\n",
    "    #\n",
    "    # |key|: The key.\n",
    "    # Return value: If the item is found, (the value of the item, True) is\n",
    "    #               returned. Otherwise, (None, False) is returned.\n",
    "    def get(self, key):\n",
    "        assert type(key) == str\n",
    "        self.check_size()  # Note: Don't remove this code.\n",
    "        bucket_index = calculate_hash(key) % self.bucket_size\n",
    "        item = self.buckets[bucket_index]\n",
    "        while item:\n",
    "            if item.key == key:\n",
    "                return (item.value, True)\n",
    "            item = item.next\n",
    "        return (None, False)\n",
    "\n",
    "    # Delete an item from the hash table.\n",
    "    #\n",
    "    # |key|: The key.\n",
    "    # Return value: True if the item is found and deleted successfully. False\n",
    "    #               otherwise.\n",
    "    def delete(self, key):\n",
    "        assert type(key) == str\n",
    "        self.check_size()  # Note: Don't remove this code.\n",
    "        bucket_index = calculate_hash(key) % self.bucket_size\n",
    "        item = self.buckets[bucket_index]\n",
    "    \n",
    "        current_node=item\n",
    "        if item.key == key:  # Check a first node.\n",
    "            self.buckets[bucket_index] = item.next\n",
    "            self.item_count -= 1\n",
    "            print(\"D\")\n",
    "            return True\n",
    "        previous_node=None\n",
    "        while current_node and current_node.key!=key:\n",
    "            previous_node=current_node \n",
    "            current_node=current_node.next \n",
    "        if current_node is None:\n",
    "            return False\n",
    "        \n",
    "        previous_node.next=current_node.next \n",
    "        current_node=None\n",
    "        self.item_count -= 1\n",
    "        return True\n",
    "\n",
    "       \n",
    "        \n",
    "    \n",
    "\n",
    "    # Return the total number of items in the hash table.\n",
    "    def size(self):\n",
    "        return self.item_count\n",
    "\n",
    "    # Check that the hash table has a \"reasonable\" bucket size.\n",
    "    # The bucket size is judged \"reasonable\" if it is smaller than 100 or\n",
    "    # the buckets are 30% or more used.\n",
    "    #\n",
    "    # Note: Don't change this function.\n",
    "    def check_size(self):\n",
    "        assert self.bucket_size < 100 or self.item_count >= self.bucket_size * 0.3\n"
   ]
  },
  {
   "cell_type": "code",
   "execution_count": 295,
   "metadata": {},
   "outputs": [],
   "source": [
    "hash_table = HashTable()\n",
    "assert hash_table.put(\"abc\", 1) == True\n",
    "assert hash_table.put(\"acb\", 2) == True\n",
    "assert hash_table.put(\"bac\", 3) == True\n",
    "assert hash_table.put(\"bca\", 4) == True\n",
    "assert hash_table.put(\"cab\", 5) == True\n",
    "assert hash_table.put(\"cba\", 6) == True"
   ]
  },
  {
   "cell_type": "code",
   "execution_count": 296,
   "metadata": {},
   "outputs": [],
   "source": [
    "assert hash_table.get(\"abc\") == (1, True)\n",
    "assert hash_table.get(\"acb\") == (2, True)\n",
    "assert hash_table.get(\"bac\") == (3, True)\n",
    "assert hash_table.get(\"bca\") == (4, True)\n",
    "assert hash_table.get(\"cab\") == (5, True)\n",
    "assert hash_table.get(\"cba\") == (6, True)\n",
    "assert hash_table.size() == 6\n"
   ]
  },
  {
   "cell_type": "code",
   "execution_count": 297,
   "metadata": {},
   "outputs": [
    {
     "data": {
      "text/plain": [
       "{'key': 'cba', 'value': 6, 'next': <__main__.Item at 0x1033cdc60>}"
      ]
     },
     "execution_count": 297,
     "metadata": {},
     "output_type": "execute_result"
    }
   ],
   "source": [
    "hash_table.buckets[3].__dict__"
   ]
  },
  {
   "cell_type": "code",
   "execution_count": 298,
   "metadata": {},
   "outputs": [
    {
     "data": {
      "text/plain": [
       "True"
      ]
     },
     "execution_count": 298,
     "metadata": {},
     "output_type": "execute_result"
    }
   ],
   "source": [
    "hash_table.delete(\"abc\")"
   ]
  },
  {
   "cell_type": "code",
   "execution_count": 299,
   "metadata": {},
   "outputs": [
    {
     "data": {
      "text/plain": [
       "{'key': 'cba', 'value': 6, 'next': <__main__.Item at 0x1033cdc60>}"
      ]
     },
     "execution_count": 299,
     "metadata": {},
     "output_type": "execute_result"
    }
   ],
   "source": [
    "hash_table.buckets[3].__dict__"
   ]
  },
  {
   "cell_type": "code",
   "execution_count": 300,
   "metadata": {},
   "outputs": [
    {
     "name": "stdout",
     "output_type": "stream",
     "text": [
      "D\n"
     ]
    },
    {
     "data": {
      "text/plain": [
       "True"
      ]
     },
     "execution_count": 300,
     "metadata": {},
     "output_type": "execute_result"
    }
   ],
   "source": [
    "hash_table.delete(\"cba\")"
   ]
  },
  {
   "cell_type": "code",
   "execution_count": 301,
   "metadata": {},
   "outputs": [
    {
     "data": {
      "text/plain": [
       "{'key': 'cab', 'value': 5, 'next': <__main__.Item at 0x1033cd780>}"
      ]
     },
     "execution_count": 301,
     "metadata": {},
     "output_type": "execute_result"
    }
   ],
   "source": [
    "hash_table.buckets[3].__dict__"
   ]
  },
  {
   "cell_type": "code",
   "execution_count": 302,
   "metadata": {},
   "outputs": [
    {
     "data": {
      "text/plain": [
       "True"
      ]
     },
     "execution_count": 302,
     "metadata": {},
     "output_type": "execute_result"
    }
   ],
   "source": [
    "hash_table.delete(\"bac\")"
   ]
  },
  {
   "cell_type": "code",
   "execution_count": 303,
   "metadata": {},
   "outputs": [
    {
     "data": {
      "text/plain": [
       "{'key': 'cab', 'value': 5, 'next': <__main__.Item at 0x1033cd780>}"
      ]
     },
     "execution_count": 303,
     "metadata": {},
     "output_type": "execute_result"
    }
   ],
   "source": [
    "hash_table.buckets[3].__dict__"
   ]
  },
  {
   "cell_type": "code",
   "execution_count": 304,
   "metadata": {},
   "outputs": [
    {
     "data": {
      "text/plain": [
       "3"
      ]
     },
     "execution_count": 304,
     "metadata": {},
     "output_type": "execute_result"
    }
   ],
   "source": [
    "hash_table.size()"
   ]
  },
  {
   "cell_type": "code",
   "execution_count": 305,
   "metadata": {},
   "outputs": [
    {
     "data": {
      "text/plain": [
       "True"
      ]
     },
     "execution_count": 305,
     "metadata": {},
     "output_type": "execute_result"
    }
   ],
   "source": [
    "hash_table.delete(\"bca\")"
   ]
  },
  {
   "cell_type": "code",
   "execution_count": 306,
   "metadata": {},
   "outputs": [
    {
     "data": {
      "text/plain": [
       "True"
      ]
     },
     "execution_count": 306,
     "metadata": {},
     "output_type": "execute_result"
    }
   ],
   "source": [
    "hash_table.delete(\"acb\")"
   ]
  },
  {
   "cell_type": "code",
   "execution_count": 307,
   "metadata": {},
   "outputs": [
    {
     "name": "stdout",
     "output_type": "stream",
     "text": [
      "D\n"
     ]
    },
    {
     "data": {
      "text/plain": [
       "True"
      ]
     },
     "execution_count": 307,
     "metadata": {},
     "output_type": "execute_result"
    }
   ],
   "source": [
    "hash_table.delete(\"cab\")"
   ]
  },
  {
   "cell_type": "code",
   "execution_count": null,
   "metadata": {},
   "outputs": [],
   "source": []
  },
  {
   "cell_type": "code",
   "execution_count": null,
   "metadata": {},
   "outputs": [],
   "source": []
  }
 ],
 "metadata": {
  "kernelspec": {
   "display_name": "Python 3",
   "language": "python",
   "name": "python3"
  },
  "language_info": {
   "codemirror_mode": {
    "name": "ipython",
    "version": 3
   },
   "file_extension": ".py",
   "mimetype": "text/x-python",
   "name": "python",
   "nbconvert_exporter": "python",
   "pygments_lexer": "ipython3",
   "version": "3.10.6"
  }
 },
 "nbformat": 4,
 "nbformat_minor": 2
}
